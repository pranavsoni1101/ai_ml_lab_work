{
  "cells": [
    {
      "cell_type": "markdown",
      "metadata": {
        "id": "n3xbsu_KQ0RJ"
      },
      "source": [
        "# CC 3230( AI  and Machine Learning Lab.)\n",
        "Name: Pranav Soni  \n",
        "Registration No.: 199303040\n",
        "\n",
        "Date:- 01.02.2022(10:30 AM - 12 Noon)\n",
        "\n",
        "Week-2\n",
        "\n",
        "Technique: Hill Climbing \n",
        "Problem: TSP"
      ]
    },
    {
      "cell_type": "markdown",
      "metadata": {},
      "source": [
        "\n",
        "\n",
        "### Technique Used: \n",
        "Hill Climbing Heuristic search.\n",
        "Hill Climbing is a heuristic search used for mathematical optimization problems in the field of Artificial Intelligence. Given a large set of inputs and a good heuristic function, it tries to find a sufficiently good solution to the problem. This solution may not be the global optimal maximum. \n",
        "\n",
        "###   The Problem: \n",
        "Travelling Salesperson problem (TSP)\n",
        "\n",
        "###   Proceedure:-\n",
        "\n",
        "             1.   Import Libraries.\n",
        "             2.   Create a Matrix Generating Function.\n",
        "             3.   Find a random solution.\n",
        "             4.   Find path lenght based on random solution.\n",
        "             5.   Create a Function to get neighbours.\n",
        "             6.   Create a function to get the best neighbours.\n",
        "             7.   Apply Hill Climbing.\n",
        "             8.   Plot the path and get the path length."
      ]
    },
    {
      "cell_type": "code",
      "execution_count": 19,
      "metadata": {
        "id": "OyhpFdK27Ks8"
      },
      "outputs": [],
      "source": [
        "##Import Libraries\n",
        "import random\n",
        "import numpy as np\n",
        "import networkx as nx"
      ]
    },
    {
      "cell_type": "code",
      "execution_count": 20,
      "metadata": {
        "id": "Zl-KpPfn7Zrh"
      },
      "outputs": [],
      "source": [
        "#coordinate of the points/cities\n",
        "coordinate = np.array([ [15,20], [10,9], [60,55], [100,80], [16,13]])"
      ]
    },
    {
      "cell_type": "markdown",
      "metadata": {},
      "source": [
        "## Matrix Generating Fucntion"
      ]
    },
    {
      "cell_type": "code",
      "execution_count": 21,
      "metadata": {
        "id": "sxUDr8tD7g7g"
      },
      "outputs": [],
      "source": [
        "#adjacency matrix for a weighted graph based on the given coordinates\n",
        "def generate_matrix(coordinate):\n",
        "    matrix = []\n",
        "    for i in range(len(coordinate)):\n",
        "        for j in range(len(coordinate)) :       \n",
        "            p = np.linalg.norm(coordinate[i] - coordinate[j])\n",
        "            matrix.append(p)\n",
        "    matrix = np.reshape(matrix, (len(coordinate),len(coordinate)))\n",
        "    #print(matrix)\n",
        "    return matrix"
      ]
    },
    {
      "cell_type": "markdown",
      "metadata": {},
      "source": [
        "## Finding a random solution"
      ]
    },
    {
      "cell_type": "code",
      "execution_count": 22,
      "metadata": {
        "id": "QcznB87S7zeG"
      },
      "outputs": [],
      "source": [
        "#finds a random solution    \n",
        "def solution(matrix):\n",
        "    points = list(range(0, len(matrix)))\n",
        "    solution = []\n",
        "    for i in range(0, len(matrix)):\n",
        "        random_point = points[random.randint(0, len(points) - 1)]\n",
        "        solution.append(random_point)\n",
        "        points.remove(random_point)\n",
        "\n",
        "    return solution"
      ]
    },
    {
      "cell_type": "markdown",
      "metadata": {},
      "source": [
        "## Finding path length based on random solution"
      ]
    },
    {
      "cell_type": "code",
      "execution_count": 23,
      "metadata": {
        "id": "gu9Kvh_y8LaX"
      },
      "outputs": [],
      "source": [
        "#computes the path based on the random solution\n",
        "def path_length(matrix, solution):\n",
        "    cycle_length = 0\n",
        "    for i in range(0, len(solution)):\n",
        "        cycle_length += matrix[solution[i]][solution[i - 1]]\n",
        "    return cycle_length"
      ]
    },
    {
      "cell_type": "markdown",
      "metadata": {},
      "source": [
        "## A fucntion to get neighbors"
      ]
    },
    {
      "cell_type": "code",
      "execution_count": 24,
      "metadata": {
        "id": "S9KmKNrOPnem"
      },
      "outputs": [],
      "source": [
        "#generate neighbors of the random solution by swapping cities and returns the neighbor\n",
        "def get_neighbors(solution):\n",
        "    neighbors = []\n",
        "    for i in range(len(solution)):\n",
        "        for j in range(i + 1, len(solution)):\n",
        "            neighbor = solution.copy()\n",
        "            neighbor[i] = solution[j]\n",
        "            neighbor[j] = solution[i]\n",
        "            neighbors.append(neighbor)\n",
        "    return neighbors"
      ]
    },
    {
      "cell_type": "markdown",
      "metadata": {},
      "source": [
        "## To get the best Neighbor from the above neighbors"
      ]
    },
    {
      "cell_type": "code",
      "execution_count": 34,
      "metadata": {
        "id": "VO9gPh1gP0Qt"
      },
      "outputs": [],
      "source": [
        "explored = 0\n",
        "#returns the best neighbor\n",
        "def get_best_neighbor(matrix, neighbors):\n",
        "            \n",
        "    #assume that the first neighbor in the list is the best neighbor      \n",
        "    best_neighbor = neighbors[0]\n",
        "    best_path = path_length(matrix, best_neighbor)\n",
        "    \n",
        "    #check if there is a better neighbor\n",
        "    for neighbor in neighbors:\n",
        "        global explored\n",
        "        explored += 1\n",
        "        current_path = path_length(matrix, neighbor)\n",
        "        if current_path < best_path:\n",
        "            best_path = current_path\n",
        "            best_neighbor = neighbor\n",
        "    return best_neighbor, best_path"
      ]
    },
    {
      "cell_type": "markdown",
      "metadata": {},
      "source": [
        "## Applying Hill climbing"
      ]
    },
    {
      "cell_type": "code",
      "execution_count": 35,
      "metadata": {
        "id": "Dse46fY9QxmG"
      },
      "outputs": [],
      "source": [
        "def hill_climbing(coordinate):\n",
        "    matrix = generate_matrix(coordinate)\n",
        "    current_solution = solution(matrix)\n",
        "    current_path = path_length(matrix, current_solution)\n",
        "    neighbors = get_neighbors(current_solution)\n",
        "    best_neighbor, best_neighbor_path = get_best_neighbor(matrix, neighbors)\n",
        "\n",
        "    while best_neighbor_path < current_path:\n",
        "        current_solution = best_neighbor\n",
        "        current_path = best_neighbor_path\n",
        "        neighbor = get_neighbors(current_solution)\n",
        "        best_neighbor, best_neighbor_path = get_best_neighbor(matrix, neighbor)\n",
        "\n",
        "    return current_path, current_solution"
      ]
    },
    {
      "cell_type": "markdown",
      "metadata": {},
      "source": [
        "## Plottting the graph"
      ]
    },
    {
      "cell_type": "code",
      "execution_count": 36,
      "metadata": {
        "colab": {
          "base_uri": "https://localhost:8080/",
          "height": 394
        },
        "id": "EhgWK2QGRtRt",
        "outputId": "d6478ea0-8e2a-40ff-8400-57a4791a4887"
      },
      "outputs": [
        {
          "name": "stdout",
          "output_type": "stream",
          "text": [
            "The solution is \n",
            " [2, 0, 1, 4, 3] \n",
            "The path length is \n",
            " 230.92048711743695\n",
            "Times explored :  30\n"
          ]
        },
        {
          "data": {
            "image/png": "[encoded data removed]",
            "text/plain": [
              "<Figure size 432x288 with 1 Axes>"
            ]
          },
          "metadata": {},
          "output_type": "display_data"
        }
      ],
      "source": [
        "def graph(coordinate):\n",
        "    final_solution = hill_climbing(coordinate)\n",
        "    G = nx.DiGraph()\n",
        "    temp = final_solution[1]\n",
        "    G.add_nodes_from(final_solution[1])\n",
        "    \n",
        "    for i in range(1, len(final_solution[1])):\n",
        "        G.add_edge(temp[i - 1], temp[i])\n",
        "    G.add_edge(temp[len(temp) - 1], temp[0])\n",
        "    color_map = []\n",
        "    for node in G:\n",
        "        if node == final_solution[1][0]:\n",
        "            color_map.append('cyan')\n",
        "        else: \n",
        "            color_map.append('turquoise')\n",
        "    nx.draw(G, with_labels = True, node_color = color_map, node_size = 1000)\n",
        "    print(\"The solution is \\n\", final_solution[1], \"\\nThe path length is \\n\", final_solution[0])\n",
        "    print(\"Times explored : \", explored)\n",
        "    return\n",
        "\n",
        "    \n",
        "graph(coordinate)"
      ]
    }
  ],
  "metadata": {
    "colab": {
      "name": "Hill Climbing.ipynb",
      "provenance": []
    },
    "kernelspec": {
      "display_name": "Python 3",
      "name": "python3"
    },
    "language_info": {
      "codemirror_mode": {
        "name": "ipython",
        "version": 3
      },
      "file_extension": ".py",
      "mimetype": "text/x-python",
      "name": "python",
      "nbconvert_exporter": "python",
      "pygments_lexer": "ipython3",
      "version": "3.8.10"
    }
  },
  "nbformat": 4,
  "nbformat_minor": 0
}
