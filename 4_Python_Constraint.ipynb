{
  "cells": [
    {
      "cell_type": "markdown",
      "metadata": {
        "id": "KN23zn4ORKc_"
      },
      "source": [
        "# **CC3230 : AI ML Lab**\n",
        "# Python Constraint\n",
        "### Pranav Soni\n",
        "### 199303040 - A2"
      ]
    },
    {
      "cell_type": "code",
      "execution_count": 4,
      "metadata": {
        "colab": {
          "base_uri": "https://localhost:8080/"
        },
        "id": "U0XFpSHE0PAJ",
        "outputId": "ec592a8a-78ab-40bf-a246-57d8b2e01fa4"
      },
      "outputs": [
        {
          "name": "stdout",
          "output_type": "stream",
          "text": [
            "Requirement already satisfied: python_constraint in /usr/local/lib/python3.7/dist-packages (1.4.0)\n"
          ]
        }
      ],
      "source": [
        "!pip install python_constraint"
      ]
    },
    {
      "cell_type": "code",
      "execution_count": 5,
      "metadata": {
        "colab": {
          "base_uri": "https://localhost:8080/"
        },
        "id": "S-OQjg-a1x8F",
        "outputId": "c123c8ee-22f1-496a-a980-f410bcfc74f1"
      },
      "outputs": [
        {
          "name": "stdout",
          "output_type": "stream",
          "text": [
            "40320 solutions found\n"
          ]
        }
      ],
      "source": [
        "# Rooks problem\n",
        "\n",
        "from constraint import *\n",
        "\n",
        "problem = Problem()\n",
        "numpieces = 8\n",
        "cols = range(numpieces)\n",
        "rows = range(numpieces)\n",
        "problem.addVariables(cols, rows)\n",
        "for col1 in cols:\n",
        "    for col2 in cols:\n",
        "        if col1 < col2:\n",
        "            problem.addConstraint(lambda row1, row2: row1 != row2,\n",
        "                                  (col1, col2))\n",
        "solutions = problem.getSolutions()\n",
        "# for s in solutions:\n",
        "  # print(s)\n",
        "print(str(len(solutions)) + \" solutions found\")"
      ]
    },
    {
      "cell_type": "code",
      "execution_count": null,
      "metadata": {
        "id": "jGz93f6f_EoO"
      },
      "outputs": [],
      "source": [
        "# 4x4 Magic squares\n",
        "\n",
        "problem = Problem()\n",
        "problem.addVariables(range(0, 16), range(1, 16 + 1))\n",
        "problem.addConstraint(AllDifferentConstraint(), range(0, 16))\n",
        "problem.addConstraint(ExactSumConstraint(34), [0, 5, 10, 15])\n",
        "problem.addConstraint(ExactSumConstraint(34), [3, 6, 9, 12])\n",
        "for row in range(4):\n",
        "  problem.addConstraint(ExactSumConstraint(34), [row * 4 + i for i in range(4)])\n",
        "for col in range(4):\n",
        "  problem.addConstraint(ExactSumConstraint(34), [col + 4 * i for i in range(4)])\n",
        "solutions = problem.getSolutions()\n",
        "print(str(len(solutions)) + \" solutions found\")"
      ]
    },
    {
      "cell_type": "code",
      "execution_count": 7,
      "metadata": {
        "colab": {
          "base_uri": "https://localhost:8080/"
        },
        "id": "OzpYQXSMCrp-",
        "outputId": "692894b1-84cc-4adb-e163-e66b7d6a6d99"
      },
      "outputs": [
        {
          "name": "stdout",
          "output_type": "stream",
          "text": [
            "100 solutions found\n"
          ]
        }
      ],
      "source": [
        "# TWO + TWO = FOUR\n",
        "\n",
        "# 2*(t*100 + w*10 + o) == f*1000 + o*100 + u*10 + r\n",
        "problem = Problem()\n",
        "problem.addVariable(\"t\", range(0, 10))\n",
        "problem.addVariable(\"w\", range(0, 10))\n",
        "problem.addVariable(\"o\", range(0, 10))\n",
        "problem.addVariable(\"f\", range(0, 10))\n",
        "problem.addVariable(\"u\", range(0, 10))\n",
        "problem.addVariable(\"r\", range(0, 10))\n",
        "\n",
        "problem.addConstraint(lambda t, w, o, f, u, r: 2*(t*100 + w*10 + o) == f*1000 + o*100 + u*10 + r, (\"t\", \"w\", \"o\", \"f\", \"u\", \"r\"))\n",
        "solutions = problem.getSolutions()\n",
        "print(str(len(solutions)) + \" solutions found\")"
      ]
    },
    {
      "cell_type": "code",
      "execution_count": 8,
      "metadata": {
        "colab": {
          "base_uri": "https://localhost:8080/"
        },
        "id": "OPbVOqY05Exk",
        "outputId": "5aa23fc6-2f0b-4ee9-defd-307a4109264f"
      },
      "outputs": [
        {
          "name": "stdout",
          "output_type": "stream",
          "text": [
            "2 solutions found\n"
          ]
        }
      ],
      "source": [
        "# 8 Queen \n",
        "\n",
        "from constraint import *\n",
        "\n",
        "problem = Problem()\n",
        "size = 4\n",
        "col = range(0, size)\n",
        "row = range(0, size)\n",
        "\n",
        "problem.addVariables(col, row)\n",
        "\n",
        "for col1 in col:\n",
        "  for col2 in col:\n",
        "    if col1 < col2:\n",
        "      problem.addConstraint(lambda row1, row2, col1 = col1, col2 = col2: (abs(col1 - col2) != abs(row1 - row2)) and row1 != row2, (col1, col2))\n",
        "solutions = problem.getSolutions()\n",
        "\n",
        "print(str(len(solutions)) + \" solutions found\")"
      ]
    },
    {
      "cell_type": "code",
      "execution_count": 9,
      "metadata": {
        "colab": {
          "base_uri": "https://localhost:8080/"
        },
        "id": "6olK2EJbB_rS",
        "outputId": "08b57eca-75c3-4742-bdfa-fdd4d22a3a2a"
      },
      "outputs": [
        {
          "name": "stdout",
          "output_type": "stream",
          "text": [
            "1 solutions found\n"
          ]
        }
      ],
      "source": [
        "# SEND+MORE=MONEY\n",
        "\n",
        "from constraint import *\n",
        "\n",
        "problem = Problem()\n",
        "\n",
        "problem.addVariables(\"SM\", range(1, 10))\n",
        "problem.addVariables(\"ENDORY\", range(10))\n",
        "\n",
        "def sum_constraint(s, m, e, n, d, o, r, y):\n",
        "  if (s*1000 + e*100 + n*10 + d*1) + (m*1000 + o*100 + r*10 + e*1) == (m*10000 + o*1000 + n*100 + e*10 + y*1):\n",
        "    return True\n",
        "\n",
        "problem.addConstraint(sum_constraint, \"SMENDORY\")\n",
        "problem.addConstraint(AllDifferentConstraint()) # finds constraints where all values are unique\n",
        "\n",
        "solutions = problem.getSolutions()\n",
        "# for s in solutions:\n",
        "  # print(s)\n",
        "print(str(len(solutions)) + \" solutions found\")"
      ]
    },
    {
      "cell_type": "code",
      "execution_count": 10,
      "metadata": {
        "colab": {
          "base_uri": "https://localhost:8080/"
        },
        "id": "wCu-dgsnBXhO",
        "outputId": "65ebdf7f-c8b3-43fa-8b3e-1ebccd03698e"
      },
      "outputs": [
        {
          "name": "stdout",
          "output_type": "stream",
          "text": [
            "Number of soln = 1\n",
            "S = 9, M = 1, E = 5, N = 6, D = 7, O = 0, R = 8, Y = 2\n"
          ]
        }
      ],
      "source": [
        "print(\"Number of soln = \" + str(len(solutions)))\n",
        "\n",
        "for s in solutions:\n",
        "  print(\"S = {}, M = {}, E = {}, N = {}, D = {}, O = {}, R = {}, Y = {}\".format(s['S'], s['M'], s['E'], s['N'], s['D'], s['O'], s['R'], s['Y']))"
      ]
    }
  ],
  "metadata": {
    "colab": {
      "collapsed_sections": [],
      "name": "4_Python_Constraint.ipynb",
      "provenance": []
    },
    "kernelspec": {
      "display_name": "Python 3",
      "name": "python3"
    },
    "language_info": {
      "name": "python"
    }
  },
  "nbformat": 4,
  "nbformat_minor": 0
}
