{
  "nbformat": 4,
  "nbformat_minor": 0,
  "metadata": {
    "colab": {
      "name": "199303040_12Apr2022_lab.ipynb",
      "provenance": []
    },
    "kernelspec": {
      "name": "python3",
      "display_name": "Python 3"
    },
    "language_info": {
      "name": "python"
    }
  },
  "cells": [
    {
      "cell_type": "markdown",
      "source": [
        "# AI ML Lab\n",
        "## Name: Pranav Soni\n",
        "## Reg No.: 199303040\n",
        "## Batch: A2\n",
        "#### Date: 12/04/22"
      ],
      "metadata": {
        "id": "x7akAI6gQnNN"
      }
    },
    {
      "cell_type": "markdown",
      "source": [
        "## Bagging Classifier"
      ],
      "metadata": {
        "id": "xAyDi4ptVR_v"
      }
    },
    {
      "cell_type": "code",
      "source": [
        "# Make moons is used to generate artificical dataset\n",
        "from sklearn.datasets import make_moons\n",
        "from sklearn.model_selection import train_test_split\n",
        "from sklearn.metrics import accuracy_score\n",
        "\n",
        "X, y = make_moons(n_samples=300, noise=.25, random_state=0)\n",
        "Xtrn, Xtst, ytrn, ytst = train_test_split(X, y, test_size=0.33)"
      ],
      "metadata": {
        "id": "qChryzLFRXve"
      },
      "execution_count": null,
      "outputs": []
    },
    {
      "cell_type": "code",
      "execution_count": null,
      "metadata": {
        "colab": {
          "base_uri": "https://localhost:8080/"
        },
        "id": "WSpAE0TsQXNJ",
        "outputId": "6c8e89ab-e355-4059-c4be-f5c3fba232c7"
      },
      "outputs": [
        {
          "output_type": "stream",
          "name": "stdout",
          "text": [
            "[1 0 1 0 1 1 1 0 1 0 0 1 0 0 0 1 1 0 1 1 0 1 0 0 1 1 1 1 1 1 0 1 0 1 1 1 0\n",
            " 0 0 0 0 0 1 0 1 1 1 1 1 1 0 0 0 0 1 1 0 1 1 1 0 0 0 0 0 0 1 0 0 1 1 1 0 0\n",
            " 0 0 1 1 1 1 1 0 0 0 1 1 0 1 0 1 1 0 1 0 1 1 1 0 0]\n"
          ]
        }
      ],
      "source": [
        "from sklearn.tree import DecisionTreeClassifier\n",
        "from sklearn.ensemble import BaggingClassifier\n",
        "\n",
        "base_estimator = DecisionTreeClassifier(max_depth=10)\n",
        "bag_ens = BaggingClassifier(base_estimator=base_estimator, n_estimators=500, \n",
        "                            max_samples=100, oob_score=True)\n",
        "bag_ens.fit(Xtrn, ytrn)\n",
        "ypred = bag_ens.predict(Xtst)\n",
        "print(ypred)"
      ]
    },
    {
      "cell_type": "code",
      "source": [
        "print(accuracy_score(ytst, ypred))"
      ],
      "metadata": {
        "colab": {
          "base_uri": "https://localhost:8080/"
        },
        "id": "Y1E-TU-oTTB-",
        "outputId": "95269c41-4e28-46e6-a044-a61415633c11"
      },
      "execution_count": null,
      "outputs": [
        {
          "output_type": "stream",
          "name": "stdout",
          "text": [
            "0.9191919191919192\n"
          ]
        }
      ]
    },
    {
      "cell_type": "markdown",
      "source": [
        "### Random forest ensemble"
      ],
      "metadata": {
        "id": "rajuFwF1VY36"
      }
    },
    {
      "cell_type": "code",
      "source": [
        "from sklearn.ensemble import RandomForestClassifier"
      ],
      "metadata": {
        "id": "9dZYrWqfVdTB"
      },
      "execution_count": null,
      "outputs": []
    },
    {
      "cell_type": "code",
      "source": [
        "rf_ens = RandomForestClassifier(n_estimators=500, max_depth=10, \n",
        "                               oob_score=True, n_jobs=-1)\n",
        "rf_ens.fit(Xtrn, ytrn)\n",
        "ypred = rf_ens.predict(Xtst)"
      ],
      "metadata": {
        "id": "9anatLs_V3wX"
      },
      "execution_count": null,
      "outputs": []
    },
    {
      "cell_type": "code",
      "source": [
        "print(accuracy_score(ytst, ypred))"
      ],
      "metadata": {
        "colab": {
          "base_uri": "https://localhost:8080/"
        },
        "id": "6e3t5oycV46J",
        "outputId": "c98c5aea-afa1-42a3-dff1-510ee4064b47"
      },
      "execution_count": null,
      "outputs": [
        {
          "output_type": "stream",
          "name": "stdout",
          "text": [
            "0.9292929292929293\n"
          ]
        }
      ]
    },
    {
      "cell_type": "markdown",
      "source": [
        "### Decision tree classifier"
      ],
      "metadata": {
        "id": "1_lNQMzOWdU7"
      }
    },
    {
      "cell_type": "code",
      "source": [
        "from sklearn.tree import DecisionTreeClassifier\n",
        "\n",
        "estimator = DecisionTreeClassifier(max_depth= 10)\n",
        "estimator.fit(Xtrn, ytrn)"
      ],
      "metadata": {
        "colab": {
          "base_uri": "https://localhost:8080/"
        },
        "id": "zV1PfDzeWhbY",
        "outputId": "83743b4f-d0f2-4b97-e757-8815c24a3dba"
      },
      "execution_count": null,
      "outputs": [
        {
          "output_type": "execute_result",
          "data": {
            "text/plain": [
              "DecisionTreeClassifier(max_depth=10)"
            ]
          },
          "metadata": {},
          "execution_count": 12
        }
      ]
    },
    {
      "cell_type": "code",
      "source": [
        "print(accuracy_score(ytst, ypred))"
      ],
      "metadata": {
        "colab": {
          "base_uri": "https://localhost:8080/"
        },
        "id": "MoThhejeaGgD",
        "outputId": "f3216457-4f0a-4415-a59d-b6a161727d25"
      },
      "execution_count": null,
      "outputs": [
        {
          "output_type": "stream",
          "name": "stdout",
          "text": [
            "0.9292929292929293\n"
          ]
        }
      ]
    },
    {
      "cell_type": "markdown",
      "source": [
        "## KNN Classifier\n"
      ],
      "metadata": {
        "id": "oIBfEaGOaMzl"
      }
    },
    {
      "cell_type": "code",
      "source": [
        "from sklearn.neighbors import KNeighborsClassifier\n",
        "from sklearn.ensemble import BaggingClassifier\n",
        "\n",
        "base_estimator = KNeighborsClassifier(n_neighbors=10)\n",
        "bag_ens = BaggingClassifier(base_estimator=base_estimator, n_estimators=500, \n",
        "                            max_samples=100, oob_score=True)\n",
        "bag_ens.fit(Xtrn, ytrn)\n",
        "ypred = bag_ens.predict(Xtst)"
      ],
      "metadata": {
        "id": "58Usq3cUaQlx"
      },
      "execution_count": null,
      "outputs": []
    },
    {
      "cell_type": "code",
      "source": [
        "print(\"Accuracy\" + str(accuracy_score(ytst, ypred)))\n",
        "print(\"OOB Score :\" + str(bag_ens.oob_score_))"
      ],
      "metadata": {
        "colab": {
          "base_uri": "https://localhost:8080/"
        },
        "id": "mKzzcnGOaqZu",
        "outputId": "24adc1ab-9803-446a-d01d-0ce8b0bd86c1"
      },
      "execution_count": null,
      "outputs": [
        {
          "output_type": "stream",
          "name": "stdout",
          "text": [
            "Accuracy0.9191919191919192\n",
            "OOB Score :0.9751243781094527\n"
          ]
        }
      ]
    },
    {
      "cell_type": "markdown",
      "source": [
        "## 5 Points\n",
        "- Learnt about make_moons\n",
        "- Learnt about Decision tree classifer\n",
        "- Learnt about KNeighbourClassifier\n",
        "- OOB Score\n",
        "- Learnt about implementing ensemble learning using bagging classifier"
      ],
      "metadata": {
        "id": "NUxtfncWb6S4"
      }
    }
  ]
}