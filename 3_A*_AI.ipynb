{
  "cells": [
    {
      "cell_type": "markdown",
      "metadata": {
        "id": "o0NRdZT7YCnH"
      },
      "source": [
        "# Week 3 - A* Algorithm on Single Shortest Path Problem\n",
        "Name : Pranav Soni  \n",
        "\n",
        "Reg No.: 199303040\n",
        "\n",
        "Date : 12 Feb 2022"
      ]
    },
    {
      "cell_type": "markdown",
      "metadata": {
        "id": "fvRhjNivunD6"
      },
      "source": [
        "## About A\\* Algorithm\n",
        "\n",
        "A\\* is a heuristic algorithm used for searching. It is essentially a combination of Djikstra's Algorithm and Best First Search. A\\* search finds the shortest path through a search space to goal state using heuristic function. This technique finds minimal cost solutions and is directed to a goal state called A\\* search. In A\\*, the \\* is written for optimality purpose. The A\\* algorithm also finds the lowest cost path between the start and goal state, where changing from one state to another requires some cost. A\\* requires heuristic function to evaluate the cost of path that passes through the particular state."
      ]
    },
    {
      "cell_type": "code",
      "execution_count": 1,
      "metadata": {
        "colab": {
          "base_uri": "https://localhost:8080/"
        },
        "id": "ATE2tctCVb0x",
        "outputId": "7f072e68-7f25-4d69-bee0-0df4b76cda8f"
      },
      "outputs": [
        {
          "name": "stdout",
          "output_type": "stream",
          "text": [
            "Path found: ['A', 'E', 'D', 'G']\n",
            "{'A': 0, 'B': 2, 'E': 3, 'C': 3, 'G': 10, 'D': 9}\n",
            "4\n"
          ]
        }
      ],
      "source": [
        "a_count = 0\n",
        "\n",
        "def aStarAlgo(start_node, stop_node):\n",
        "        global a_count\n",
        "        open_set = set(start_node) \n",
        "        closed_set = set()\n",
        "        g = {} #store distance from starting node\n",
        "        parents = {}# parents contains an adjacency map of all nodes\n",
        " \n",
        "        #ditance of starting node from itself is zero\n",
        "        g[start_node] = 0\n",
        "        #start_node is root node i.e it has no parent nodes\n",
        "        #so start_node is set to its own parent node\n",
        "        parents[start_node] = start_node\n",
        "         \n",
        "         \n",
        "        while len(open_set) > 0:\n",
        "            n = None\n",
        " \n",
        "            #node with lowest f() is found\n",
        "            for v in open_set:\n",
        "                if n == None or g[v] + heuristic(v) < g[n] + heuristic(n):\n",
        "                    n = v\n",
        "             \n",
        "                     \n",
        "            if n == stop_node or Graph_nodes[n] == None: # Key Error G\n",
        "                pass\n",
        "            else:\n",
        "                for (m, weight) in get_neighbors(n):\n",
        "                    #nodes 'm' not in first and last set are added to first\n",
        "                    #n is set its parent\n",
        "                    if m not in open_set and m not in closed_set:\n",
        "                        open_set.add(m)\n",
        "                        parents[m] = n\n",
        "                        g[m] = g[n] + weight\n",
        "                         \n",
        "     \n",
        "                    #for each node m,compare its distance from start i.e g(m) to the\n",
        "                    #from start through n node\n",
        "                    else:\n",
        "                        if g[m] > g[n] + weight:\n",
        "                            #update g(m)\n",
        "                            g[m] = g[n] + weight\n",
        "                            #change parent of m to n\n",
        "                            parents[m] = n\n",
        "                             \n",
        "                            #if m in closed set,remove and add to open\n",
        "                            if m in closed_set:\n",
        "                                closed_set.remove(m)\n",
        "                                open_set.add(m)\n",
        " \n",
        "            if n == None:\n",
        "                print('Path does not exist!')\n",
        "                return None\n",
        " \n",
        "            # if the current node is the stop_node\n",
        "            # then we begin reconstructin the path from it to the start_node\n",
        "            if n == stop_node:\n",
        "                path = []\n",
        " \n",
        "                while parents[n] != n:\n",
        "                    path.append(n)\n",
        "                    n = parents[n]\n",
        " \n",
        "                path.append(start_node)\n",
        " \n",
        "                path.reverse()\n",
        " \n",
        "                print('Path found: {}'.format(path))\n",
        "                print(g)\n",
        "                return path\n",
        " \n",
        " \n",
        "            # remove n from the open_list, and add it to closed_list\n",
        "            # because all of his neighbors were inspected\n",
        "            open_set.remove(n)\n",
        "            closed_set.add(n)\n",
        " \n",
        "        print('Path does not exist!')\n",
        "        return None\n",
        "         \n",
        "#define fuction to return neighbor and its distance\n",
        "#from the passed node\n",
        "def get_neighbors(v):\n",
        "    global a_count\n",
        "    if v in Graph_nodes:\n",
        "        a_count += 1\n",
        "        return Graph_nodes[v]\n",
        "    else:\n",
        "        return None\n",
        "#for simplicity we ll consider heuristic distances given\n",
        "#and this function returns heuristic distance for all nodes\n",
        "def heuristic(n):\n",
        "        H_dist = {\n",
        "            'A': 11,\n",
        "            'B': 6,\n",
        "            'C': 99,\n",
        "            'D': 1,\n",
        "            'E': 7,\n",
        "            'G': 0,\n",
        "        }\n",
        " \n",
        "        return H_dist[n]\n",
        " \n",
        "#Describe your graph here  \n",
        "Graph_nodes = {\n",
        "    'A': [('B', 2), ('E', 3)],\n",
        "    'B': [('C', 1),('G', 9)],\n",
        "    'C': None,\n",
        "    'E': [('D', 6)],\n",
        "    'D': [('G', 1)],    \n",
        "}\n",
        "# aStarAlgo('A', 'B')\n",
        "# aStarAlgo('A', 'D')\n",
        "# aStarAlgo('A', 'E')\n",
        "aStarAlgo('A', 'G')\n",
        "print(a_count)\n",
        "# aStarAlgo('A', 'C')"
      ]
    },
    {
      "cell_type": "markdown",
      "metadata": {
        "id": "clekH9qKwrl6"
      },
      "source": [
        "## About Djikstra's Algorithm\n",
        "Djikstra's Algorithm is a super popular algorithm which serves to solve the Single Source shortest path problem. It works by constantly calculating the cost to reach a node in a graph while simultaneously exploring (almost) all possible nodes. Due to this huge amount of exploration it provides and accurate solution regarding the shortest path from point A to B."
      ]
    },
    {
      "cell_type": "code",
      "execution_count": 2,
      "metadata": {
        "id": "M3pvi5FZK_zL"
      },
      "outputs": [],
      "source": [
        "\n",
        "import sys\n",
        " \n",
        "class Graph(object):\n",
        "    def __init__(self, nodes, init_graph):\n",
        "        self.nodes = nodes\n",
        "        self.graph = self.construct_graph(nodes, init_graph)\n",
        "        \n",
        "    def construct_graph(self, nodes, init_graph):\n",
        "        '''\n",
        "        This method makes sure that the graph is symmetrical. In other words, if there's a path from node A to B with a value V, there needs to be a path from node B to node A with a value V.\n",
        "        '''\n",
        "        graph = {}\n",
        "        for node in nodes:\n",
        "            graph[node] = {}\n",
        "        \n",
        "        graph.update(init_graph)\n",
        "        \n",
        "        for node, edges in graph.items():\n",
        "            for adjacent_node, value in edges.items():\n",
        "                if graph[adjacent_node].get(node, False) == False:\n",
        "                    graph[adjacent_node][node] = value\n",
        "                    \n",
        "        return graph\n",
        "    \n",
        "    def get_nodes(self):\n",
        "        \"Returns the nodes of the graph.\"\n",
        "        return self.nodes\n",
        "    \n",
        "    def get_outgoing_edges(self, node):\n",
        "        \"Returns the neighbors of a node.\"\n",
        "        connections = []\n",
        "        for out_node in self.nodes:\n",
        "            if self.graph[node].get(out_node, False) != False:\n",
        "                connections.append(out_node)\n",
        "        return connections\n",
        "    \n",
        "    def value(self, node1, node2):\n",
        "        \"Returns the value of an edge between two nodes.\"\n",
        "        return self.graph[node1][node2]"
      ]
    },
    {
      "cell_type": "code",
      "execution_count": 3,
      "metadata": {
        "colab": {
          "base_uri": "https://localhost:8080/"
        },
        "id": "p_osOJRhLE_v",
        "outputId": "f57cb00c-50fd-4a14-84c9-9e33dd15488d"
      },
      "outputs": [
        {
          "name": "stdout",
          "output_type": "stream",
          "text": [
            "{'A': {'B': 2}, 'B': {'C': 1, 'G': 9}, 'C': {}, 'D': {'E': 6}, 'E': {'A': 3}, 'G': {'D': 1}}\n",
            "path with a value of 10.\n",
            "A -> E -> D -> G\n"
          ]
        }
      ],
      "source": [
        "count = 0\n",
        "def dijkstra_algorithm(graph, start_node):\n",
        "    global count\n",
        "    unvisited_nodes = list(graph.get_nodes())\n",
        " \n",
        "    # We'll use this dict to save the cost of visiting each node and update it as we move along the graph   \n",
        "    shortest_path = {}\n",
        " \n",
        "    # We'll use this dict to save the shortest known path to a node found so far\n",
        "    previous_nodes = {}\n",
        " \n",
        "    # We'll use max_value to initialize the \"infinity\" value of the unvisited nodes   \n",
        "    max_value = sys.maxsize\n",
        "    for node in unvisited_nodes:\n",
        "        shortest_path[node] = max_value\n",
        "    # However, we initialize the starting node's value with 0   \n",
        "    shortest_path[start_node] = 0\n",
        "    \n",
        "    # The algorithm executes until we visit all nodes\n",
        "    while unvisited_nodes:\n",
        "        # The code block below finds the node with the lowest score\n",
        "        current_min_node = None\n",
        "        for node in unvisited_nodes: # Iterate over the nodes\n",
        "            count += 1\n",
        "            if current_min_node == None:\n",
        "                current_min_node = node\n",
        "            elif shortest_path[node] < shortest_path[current_min_node]:\n",
        "                current_min_node = node\n",
        "                \n",
        "        # The code block below retrieves the current node's neighbors and updates their distances\n",
        "        neighbors = graph.get_outgoing_edges(current_min_node)\n",
        "        for neighbor in neighbors:\n",
        "            tentative_value = shortest_path[current_min_node] + graph.value(current_min_node, neighbor)\n",
        "            if tentative_value < shortest_path[neighbor]:\n",
        "                shortest_path[neighbor] = tentative_value\n",
        "                # We also update the best path to the current node\n",
        "                previous_nodes[neighbor] = current_min_node\n",
        " \n",
        "        # After visiting its neighbors, we mark the node as \"visited\"\n",
        "        unvisited_nodes.remove(current_min_node)\n",
        "    return previous_nodes, shortest_path\n",
        "\n",
        "def print_result(previous_nodes, shortest_path, start_node, target_node):\n",
        "    path = []\n",
        "    node = target_node\n",
        "    \n",
        "    while node != start_node:\n",
        "        path.append(node)\n",
        "        node = previous_nodes[node]\n",
        " \n",
        "    # Add the start node manually\n",
        "    path.append(start_node)\n",
        "    \n",
        "    print(\"path with a value of {}.\".format(shortest_path[target_node]))\n",
        "    print(\" -> \".join(reversed(path)))\n",
        "\n",
        "\n",
        "nodes = [\"A\", \"B\", \"C\", \"D\", \"E\", \"G\",]\n",
        " \n",
        "init_graph = {}\n",
        "for node in nodes:\n",
        "    init_graph[node] = {}\n",
        "    \n",
        "init_graph[\"A\"][\"B\"] = 2\n",
        "init_graph[\"B\"][\"C\"] = 1\n",
        "init_graph[\"B\"][\"G\"] = 9\n",
        "init_graph[\"G\"][\"D\"] = 1\n",
        "init_graph[\"D\"][\"E\"] = 6\n",
        "init_graph[\"E\"][\"A\"] = 3\n",
        "\n",
        "print (init_graph)\n",
        "\n",
        "graph = Graph(nodes, init_graph)\n",
        "previous_nodes, shortest_path = dijkstra_algorithm(graph=graph, start_node=\"A\")\n",
        "print_result(previous_nodes, shortest_path, start_node=\"A\", target_node=\"G\")"
      ]
    },
    {
      "cell_type": "markdown",
      "metadata": {
        "id": "jI0A4tawojka"
      },
      "source": [
        "## Result :"
      ]
    },
    {
      "cell_type": "code",
      "execution_count": 4,
      "metadata": {
        "colab": {
          "base_uri": "https://localhost:8080/"
        },
        "id": "MSVRGD-MXmSF",
        "outputId": "8aa2bb5d-fa6d-4e9e-9687-2ab5b07e156e"
      },
      "outputs": [
        {
          "name": "stdout",
          "output_type": "stream",
          "text": [
            "Result:\n",
            "A* : 4\n",
            "Djikstra : 21\n"
          ]
        }
      ],
      "source": [
        "print(\"Result:\")\n",
        "print(\"A* : \" + str(a_count))\n",
        "print(\"Djikstra : \" + str(count))"
      ]
    },
    {
      "cell_type": "markdown",
      "metadata": {
        "id": "nUT5wr_-yZ5Q"
      },
      "source": [
        "Remark :\n",
        "A* as defined, is an extension or updated implementation of the Djikstra's Algorithm. It can be seen that even though eventually, both Djikstra's and A* give the same path result, the cost incurred while doing so is greatly different. While Djikstra's took about 21 explorations of multiple nodes, A* only took 4. This huge improvement speaks greatly about A*'s implementation using heuristic function. Thus to conclude it can be readily said that A* is a signification improvement over Djikstra's algorithm and can be used as it's replacement to improve processing speed and costs."
      ]
    }
  ],
  "metadata": {
    "colab": {
      "collapsed_sections": [],
      "name": "199303069_W3_AI.ipynb",
      "provenance": []
    },
    "kernelspec": {
      "display_name": "Python 3",
      "name": "python3"
    },
    "language_info": {
      "codemirror_mode": {
        "name": "ipython",
        "version": 3
      },
      "file_extension": ".py",
      "mimetype": "text/x-python",
      "name": "python",
      "nbconvert_exporter": "python",
      "pygments_lexer": "ipython3",
      "version": "3.8.10"
    }
  },
  "nbformat": 4,
  "nbformat_minor": 0
}
